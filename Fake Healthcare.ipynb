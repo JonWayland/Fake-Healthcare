{
 "cells": [
  {
   "cell_type": "markdown",
   "metadata": {},
   "source": [
    "# Fake Healthcare Explatory Data Analysis\n",
    "A while back, I wanted to demonstrate a statistical analysis on a population health dataset. Because a typical pop. health dataset has PHI, I had a very tough time finding any open-source. Instead of continuing to look, I generated my own data that has known characteristics and relationships from a typical population health dataset. This is an exploratory analysis on that data."
   ]
  },
  {
   "cell_type": "code",
   "execution_count": 23,
   "metadata": {
    "scrolled": true
   },
   "outputs": [],
   "source": [
    "# Loading initial libraries\n",
    "library(tidyverse)\n",
    "library(RCurl)\n",
    "library(gridExtra)\n",
    "library(PerformanceAnalytics)"
   ]
  },
  {
   "cell_type": "markdown",
   "metadata": {},
   "source": [
    "Reading in the data from my GitHub"
   ]
  },
  {
   "cell_type": "code",
   "execution_count": 13,
   "metadata": {},
   "outputs": [],
   "source": [
    "url <- getURL(\"https://raw.githubusercontent.com/JonWayland/Fake-Healthcare/master/HP-Universal_DF.csv\")\n",
    "data <- read.csv(text = url)"
   ]
  },
  {
   "cell_type": "code",
   "execution_count": 11,
   "metadata": {},
   "outputs": [
    {
     "data": {
      "text/html": [
       "<table>\n",
       "<thead><tr><th scope=col>X</th><th scope=col>PatientID</th><th scope=col>Age</th><th scope=col>CC_Count</th><th scope=col>Risk_Count</th><th scope=col>HP_Paid</th><th scope=col>Gender</th><th scope=col>ER_Count</th><th scope=col>CC_Arthritis</th><th scope=col>CC_Asthma</th><th scope=col>...</th><th scope=col>CC_Hyperlipidemia</th><th scope=col>CC_Hypertension</th><th scope=col>CC_Ischemic_Heart_Disease</th><th scope=col>CC_Kidney_Disease</th><th scope=col>CC_Osteoporosis</th><th scope=col>CC_Schizophrenia</th><th scope=col>CC_Stroke</th><th scope=col>ER_Copay</th><th scope=col>PCP_Copay</th><th scope=col>IP_Visits</th></tr></thead>\n",
       "<tbody>\n",
       "\t<tr><td> 1      </td><td>L7236961</td><td>31.35640</td><td>0       </td><td>3       </td><td>10057.40</td><td>female  </td><td>0       </td><td>0       </td><td>0       </td><td>...     </td><td>0       </td><td>0       </td><td>0       </td><td>0       </td><td>0       </td><td>0       </td><td>0       </td><td>$100    </td><td>$35     </td><td>0       </td></tr>\n",
       "\t<tr><td> 3      </td><td>H8018589</td><td>39.23324</td><td>2       </td><td>2       </td><td>15212.04</td><td>female  </td><td>1       </td><td>0       </td><td>0       </td><td>...     </td><td>0       </td><td>0       </td><td>0       </td><td>0       </td><td>0       </td><td>0       </td><td>0       </td><td>$150    </td><td>$50     </td><td>6       </td></tr>\n",
       "\t<tr><td> 5      </td><td>B7343446</td><td>50.81442</td><td>2       </td><td>7       </td><td>20518.37</td><td>female  </td><td>0       </td><td>0       </td><td>0       </td><td>...     </td><td>1       </td><td>1       </td><td>0       </td><td>0       </td><td>0       </td><td>0       </td><td>0       </td><td>$75     </td><td>$20     </td><td>1       </td></tr>\n",
       "\t<tr><td> 6      </td><td>E7283953</td><td>34.06897</td><td>2       </td><td>2       </td><td>15224.01</td><td>male    </td><td>0       </td><td>0       </td><td>0       </td><td>...     </td><td>0       </td><td>0       </td><td>1       </td><td>0       </td><td>0       </td><td>0       </td><td>1       </td><td>$150    </td><td>$50     </td><td>0       </td></tr>\n",
       "\t<tr><td>11      </td><td>A2494289</td><td>36.50375</td><td>2       </td><td>1       </td><td>24322.15</td><td>male    </td><td>1       </td><td>0       </td><td>1       </td><td>...     </td><td>0       </td><td>0       </td><td>0       </td><td>0       </td><td>0       </td><td>0       </td><td>0       </td><td>$75     </td><td>$20     </td><td>1       </td></tr>\n",
       "\t<tr><td>15      </td><td>Y3199084</td><td>30.99372</td><td>1       </td><td>1       </td><td> 5074.47</td><td>male    </td><td>0       </td><td>0       </td><td>0       </td><td>...     </td><td>0       </td><td>1       </td><td>0       </td><td>0       </td><td>0       </td><td>0       </td><td>0       </td><td>$100    </td><td>$35     </td><td>1       </td></tr>\n",
       "</tbody>\n",
       "</table>\n"
      ],
      "text/latex": [
       "\\begin{tabular}{r|llllllllllllllllllllllllllllll}\n",
       " X & PatientID & Age & CC\\_Count & Risk\\_Count & HP\\_Paid & Gender & ER\\_Count & CC\\_Arthritis & CC\\_Asthma & ... & CC\\_Hyperlipidemia & CC\\_Hypertension & CC\\_Ischemic\\_Heart\\_Disease & CC\\_Kidney\\_Disease & CC\\_Osteoporosis & CC\\_Schizophrenia & CC\\_Stroke & ER\\_Copay & PCP\\_Copay & IP\\_Visits\\\\\n",
       "\\hline\n",
       "\t  1       & L7236961 & 31.35640 & 0        & 3        & 10057.40 & female   & 0        & 0        & 0        & ...      & 0        & 0        & 0        & 0        & 0        & 0        & 0        & \\$100   & \\$35    & 0       \\\\\n",
       "\t  3       & H8018589 & 39.23324 & 2        & 2        & 15212.04 & female   & 1        & 0        & 0        & ...      & 0        & 0        & 0        & 0        & 0        & 0        & 0        & \\$150   & \\$50    & 6       \\\\\n",
       "\t  5       & B7343446 & 50.81442 & 2        & 7        & 20518.37 & female   & 0        & 0        & 0        & ...      & 1        & 1        & 0        & 0        & 0        & 0        & 0        & \\$75    & \\$20    & 1       \\\\\n",
       "\t  6       & E7283953 & 34.06897 & 2        & 2        & 15224.01 & male     & 0        & 0        & 0        & ...      & 0        & 0        & 1        & 0        & 0        & 0        & 1        & \\$150   & \\$50    & 0       \\\\\n",
       "\t 11       & A2494289 & 36.50375 & 2        & 1        & 24322.15 & male     & 1        & 0        & 1        & ...      & 0        & 0        & 0        & 0        & 0        & 0        & 0        & \\$75    & \\$20    & 1       \\\\\n",
       "\t 15       & Y3199084 & 30.99372 & 1        & 1        &  5074.47 & male     & 0        & 0        & 0        & ...      & 0        & 1        & 0        & 0        & 0        & 0        & 0        & \\$100   & \\$35    & 1       \\\\\n",
       "\\end{tabular}\n"
      ],
      "text/markdown": [
       "\n",
       "X | PatientID | Age | CC_Count | Risk_Count | HP_Paid | Gender | ER_Count | CC_Arthritis | CC_Asthma | ... | CC_Hyperlipidemia | CC_Hypertension | CC_Ischemic_Heart_Disease | CC_Kidney_Disease | CC_Osteoporosis | CC_Schizophrenia | CC_Stroke | ER_Copay | PCP_Copay | IP_Visits | \n",
       "|---|---|---|---|---|---|\n",
       "|  1       | L7236961 | 31.35640 | 0        | 3        | 10057.40 | female   | 0        | 0        | 0        | ...      | 0        | 0        | 0        | 0        | 0        | 0        | 0        | $100     | $35      | 0        | \n",
       "|  3       | H8018589 | 39.23324 | 2        | 2        | 15212.04 | female   | 1        | 0        | 0        | ...      | 0        | 0        | 0        | 0        | 0        | 0        | 0        | $150     | $50      | 6        | \n",
       "|  5       | B7343446 | 50.81442 | 2        | 7        | 20518.37 | female   | 0        | 0        | 0        | ...      | 1        | 1        | 0        | 0        | 0        | 0        | 0        | $75      | $20      | 1        | \n",
       "|  6       | E7283953 | 34.06897 | 2        | 2        | 15224.01 | male     | 0        | 0        | 0        | ...      | 0        | 0        | 1        | 0        | 0        | 0        | 1        | $150     | $50      | 0        | \n",
       "| 11       | A2494289 | 36.50375 | 2        | 1        | 24322.15 | male     | 1        | 0        | 1        | ...      | 0        | 0        | 0        | 0        | 0        | 0        | 0        | $75      | $20      | 1        | \n",
       "| 15       | Y3199084 | 30.99372 | 1        | 1        |  5074.47 | male     | 0        | 0        | 0        | ...      | 0        | 1        | 0        | 0        | 0        | 0        | 0        | $100     | $35      | 1        | \n",
       "\n",
       "\n"
      ],
      "text/plain": [
       "  X  PatientID Age      CC_Count Risk_Count HP_Paid  Gender ER_Count\n",
       "1  1 L7236961  31.35640 0        3          10057.40 female 0       \n",
       "2  3 H8018589  39.23324 2        2          15212.04 female 1       \n",
       "3  5 B7343446  50.81442 2        7          20518.37 female 0       \n",
       "4  6 E7283953  34.06897 2        2          15224.01 male   0       \n",
       "5 11 A2494289  36.50375 2        1          24322.15 male   1       \n",
       "6 15 Y3199084  30.99372 1        1           5074.47 male   0       \n",
       "  CC_Arthritis CC_Asthma ... CC_Hyperlipidemia CC_Hypertension\n",
       "1 0            0         ... 0                 0              \n",
       "2 0            0         ... 0                 0              \n",
       "3 0            0         ... 1                 1              \n",
       "4 0            0         ... 0                 0              \n",
       "5 0            1         ... 0                 0              \n",
       "6 0            0         ... 0                 1              \n",
       "  CC_Ischemic_Heart_Disease CC_Kidney_Disease CC_Osteoporosis CC_Schizophrenia\n",
       "1 0                         0                 0               0               \n",
       "2 0                         0                 0               0               \n",
       "3 0                         0                 0               0               \n",
       "4 1                         0                 0               0               \n",
       "5 0                         0                 0               0               \n",
       "6 0                         0                 0               0               \n",
       "  CC_Stroke ER_Copay PCP_Copay IP_Visits\n",
       "1 0         $100     $35       0        \n",
       "2 0         $150     $50       6        \n",
       "3 0         $75      $20       1        \n",
       "4 1         $150     $50       0        \n",
       "5 0         $75      $20       1        \n",
       "6 0         $100     $35       1        "
      ]
     },
     "metadata": {},
     "output_type": "display_data"
    }
   ],
   "source": [
    "head(data)"
   ]
  },
  {
   "cell_type": "code",
   "execution_count": 15,
   "metadata": {
    "scrolled": true
   },
   "outputs": [
    {
     "data": {
      "text/plain": [
       "       X            PatientID          Age           CC_Count     \n",
       " Min.   :    1   A0013127:    1   Min.   :16.00   Min.   : 0.000  \n",
       " 1st Qu.: 3751   A0019906:    1   1st Qu.:23.91   1st Qu.: 0.000  \n",
       " Median : 7500   A0030910:    1   Median :29.57   Median : 0.000  \n",
       " Mean   : 7500   A0053393:    1   Mean   :32.59   Mean   : 0.588  \n",
       " 3rd Qu.:11250   A0056860:    1   3rd Qu.:38.12   3rd Qu.: 1.000  \n",
       " Max.   :15000   A0061855:    1   Max.   :77.67   Max.   :18.000  \n",
       "                 (Other) :14994                                   \n",
       "   Risk_Count       HP_Paid            Gender        ER_Count    \n",
       " Min.   :0.000   Min.   :    97.3   female:7354   Min.   :0.000  \n",
       " 1st Qu.:1.000   1st Qu.:  4608.9   male  :7646   1st Qu.:0.000  \n",
       " Median :1.000   Median :  9328.6                 Median :0.000  \n",
       " Mean   :1.855   Mean   : 16410.3                 Mean   :1.086  \n",
       " 3rd Qu.:2.000   3rd Qu.: 18928.7                 3rd Qu.:2.000  \n",
       " Max.   :7.000   Max.   :500000.0                 Max.   :9.000  \n",
       "                                                                 \n",
       "  CC_Arthritis       CC_Asthma       CC_Atrial_Fibrillation   CC_Austism     \n",
       " Min.   :0.00000   Min.   :0.00000   Min.   :0.00000        Min.   :0.00000  \n",
       " 1st Qu.:0.00000   1st Qu.:0.00000   1st Qu.:0.00000        1st Qu.:0.00000  \n",
       " Median :0.00000   Median :0.00000   Median :0.00000        Median :0.00000  \n",
       " Mean   :0.01287   Mean   :0.06053   Mean   :0.02347        Mean   :0.02907  \n",
       " 3rd Qu.:0.00000   3rd Qu.:0.00000   3rd Qu.:0.00000        3rd Qu.:0.00000  \n",
       " Max.   :1.00000   Max.   :1.00000   Max.   :1.00000        Max.   :1.00000  \n",
       "                                                                             \n",
       "   CC_Cancer          CC_COPD         CC_Dementia     CC_Depression    \n",
       " Min.   :0.00000   Min.   :0.00000   Min.   :0.0000   Min.   :0.00000  \n",
       " 1st Qu.:0.00000   1st Qu.:0.00000   1st Qu.:0.0000   1st Qu.:0.00000  \n",
       " Median :0.00000   Median :0.00000   Median :0.0000   Median :0.00000  \n",
       " Mean   :0.03347   Mean   :0.04527   Mean   :0.0108   Mean   :0.04047  \n",
       " 3rd Qu.:0.00000   3rd Qu.:0.00000   3rd Qu.:0.0000   3rd Qu.:0.00000  \n",
       " Max.   :1.00000   Max.   :1.00000   Max.   :1.0000   Max.   :1.00000  \n",
       "                                                                       \n",
       "  CC_Diabetes     CC_Heart_Failure  CC_Hepatitis     CC_HIV_AIDS      \n",
       " Min.   :0.0000   Min.   :0.0000   Min.   :0.0000   Min.   :0.000000  \n",
       " 1st Qu.:0.0000   1st Qu.:0.0000   1st Qu.:0.0000   1st Qu.:0.000000  \n",
       " Median :0.0000   Median :0.0000   Median :0.0000   Median :0.000000  \n",
       " Mean   :0.0272   Mean   :0.0416   Mean   :0.0166   Mean   :0.009667  \n",
       " 3rd Qu.:0.0000   3rd Qu.:0.0000   3rd Qu.:0.0000   3rd Qu.:0.000000  \n",
       " Max.   :1.0000   Max.   :1.0000   Max.   :1.0000   Max.   :1.000000  \n",
       "                                                                      \n",
       " CC_Hyperlipidemia CC_Hypertension  CC_Ischemic_Heart_Disease CC_Kidney_Disease\n",
       " Min.   :0.00000   Min.   :0.0000   Min.   :0.00000           Min.   :0.00000  \n",
       " 1st Qu.:0.00000   1st Qu.:0.0000   1st Qu.:0.00000           1st Qu.:0.00000  \n",
       " Median :0.00000   Median :0.0000   Median :0.00000           Median :0.00000  \n",
       " Mean   :0.05053   Mean   :0.0536   Mean   :0.04153           Mean   :0.02307  \n",
       " 3rd Qu.:0.00000   3rd Qu.:0.0000   3rd Qu.:0.00000           3rd Qu.:0.00000  \n",
       " Max.   :1.00000   Max.   :1.0000   Max.   :1.00000           Max.   :1.00000  \n",
       "                                                                               \n",
       " CC_Osteoporosis   CC_Schizophrenia   CC_Stroke      ER_Copay    PCP_Copay \n",
       " Min.   :0.00000   Min.   :0.0000   Min.   :0.0000   $100:3269   $20:3085  \n",
       " 1st Qu.:0.00000   1st Qu.:0.0000   1st Qu.:0.0000   $150:3646   $25:5000  \n",
       " Median :0.00000   Median :0.0000   Median :0.0000   $25 :5000   $35:3269  \n",
       " Mean   :0.02447   Mean   :0.0094   Mean   :0.0344   $75 :3085   $50:3646  \n",
       " 3rd Qu.:0.00000   3rd Qu.:0.0000   3rd Qu.:0.0000                         \n",
       " Max.   :1.00000   Max.   :1.0000   Max.   :1.0000                         \n",
       "                                                                           \n",
       "   IP_Visits      \n",
       " Min.   : 0.0000  \n",
       " 1st Qu.: 0.0000  \n",
       " Median : 0.0000  \n",
       " Mean   : 0.8497  \n",
       " 3rd Qu.: 1.0000  \n",
       " Max.   :11.0000  \n",
       "                  "
      ]
     },
     "metadata": {},
     "output_type": "display_data"
    }
   ],
   "source": [
    "summary(data)"
   ]
  },
  {
   "cell_type": "code",
   "execution_count": 73,
   "metadata": {},
   "outputs": [
    {
     "name": "stdout",
     "output_type": "stream",
     "text": [
      "'data.frame':\t15000 obs. of  30 variables:\n",
      " $ X                        : int  1 3 5 6 11 15 16 17 18 20 ...\n",
      " $ PatientID                : Factor w/ 15000 levels \"A0013127\",\"A0019906\",..: 6864 4546 1019 2698 146 14071 958 6520 10913 3987 ...\n",
      " $ Age                      : num  31.4 39.2 50.8 34.1 36.5 ...\n",
      " $ CC_Count                 : int  0 2 2 2 2 1 1 1 1 0 ...\n",
      " $ Risk_Count               : int  3 2 7 2 1 1 1 4 1 3 ...\n",
      " $ HP_Paid                  : num  10057 15212 20518 15224 24322 ...\n",
      " $ Gender                   : Factor w/ 2 levels \"female\",\"male\": 1 1 1 2 2 2 2 1 1 2 ...\n",
      " $ ER_Count                 : int  0 1 0 0 1 0 0 0 0 0 ...\n",
      " $ CC_Arthritis             : int  0 0 0 0 0 0 0 0 0 0 ...\n",
      " $ CC_Asthma                : int  0 0 0 0 1 0 0 0 0 0 ...\n",
      " $ CC_Atrial_Fibrillation   : int  0 0 0 0 0 0 0 0 0 0 ...\n",
      " $ CC_Austism               : int  0 0 0 0 0 0 0 0 0 0 ...\n",
      " $ CC_Cancer                : int  0 1 0 0 0 0 0 0 0 0 ...\n",
      " $ CC_COPD                  : int  0 0 0 0 1 0 0 0 0 0 ...\n",
      " $ CC_Dementia              : int  0 0 0 0 0 0 0 0 0 0 ...\n",
      " $ CC_Depression            : int  0 1 0 0 0 0 0 0 0 0 ...\n",
      " $ CC_Diabetes              : int  0 0 0 0 0 0 0 0 0 0 ...\n",
      " $ CC_Heart_Failure         : int  0 0 0 0 0 0 0 0 0 0 ...\n",
      " $ CC_Hepatitis             : int  0 0 0 0 0 0 1 0 0 0 ...\n",
      " $ CC_HIV_AIDS              : int  0 0 0 0 0 0 0 0 0 0 ...\n",
      " $ CC_Hyperlipidemia        : int  0 0 1 0 0 0 0 0 0 0 ...\n",
      " $ CC_Hypertension          : int  0 0 1 0 0 1 0 0 0 0 ...\n",
      " $ CC_Ischemic_Heart_Disease: int  0 0 0 1 0 0 0 1 0 0 ...\n",
      " $ CC_Kidney_Disease        : int  0 0 0 0 0 0 0 0 0 0 ...\n",
      " $ CC_Osteoporosis          : int  0 0 0 0 0 0 0 0 1 0 ...\n",
      " $ CC_Schizophrenia         : int  0 0 0 0 0 0 0 0 0 0 ...\n",
      " $ CC_Stroke                : int  0 0 0 1 0 0 0 0 0 0 ...\n",
      " $ ER_Copay                 : Factor w/ 4 levels \"$100\",\"$150\",..: 1 2 4 2 4 1 1 4 1 4 ...\n",
      " $ PCP_Copay                : Factor w/ 4 levels \"$20\",\"$25\",\"$35\",..: 3 4 1 4 1 3 3 1 3 1 ...\n",
      " $ IP_Visits                : int  0 6 1 0 1 1 0 2 0 3 ...\n"
     ]
    }
   ],
   "source": [
    "str(data)"
   ]
  },
  {
   "cell_type": "markdown",
   "metadata": {},
   "source": [
    "## Visualizations"
   ]
  },
  {
   "cell_type": "code",
   "execution_count": 56,
   "metadata": {
    "scrolled": false
   },
   "outputs": [
    {
     "name": "stderr",
     "output_type": "stream",
     "text": [
      "`stat_bin()` using `bins = 30`. Pick better value with `binwidth`.\n",
      "`stat_bin()` using `bins = 30`. Pick better value with `binwidth`.\n",
      "`stat_bin()` using `bins = 30`. Pick better value with `binwidth`.\n",
      "`stat_bin()` using `bins = 30`. Pick better value with `binwidth`.\n",
      "`stat_bin()` using `bins = 30`. Pick better value with `binwidth`.\n",
      "`stat_bin()` using `bins = 30`. Pick better value with `binwidth`.\n"
     ]
    },
    {
     "data": {
      "image/png": "[encoded data removed]",
      "text/plain": [
       "plot without title"
      ]
     },
     "metadata": {},
     "output_type": "display_data"
    }
   ],
   "source": [
    "options(repr.plot.width = 8, repr.plot.height = 4)\n",
    "\n",
    "p1<-data %>% \n",
    "    ggplot(aes(x=Age)) +\n",
    "    geom_histogram()\n",
    "\n",
    "p2<-data %>% \n",
    "    ggplot(aes(x=CC_Count)) +\n",
    "    geom_histogram()\n",
    "\n",
    "p3<-data %>% \n",
    "    ggplot(aes(x=Risk_Count)) +\n",
    "    geom_histogram()\n",
    "\n",
    "p4<-data %>% \n",
    "    ggplot(aes(x=HP_Paid)) +\n",
    "    geom_histogram()\n",
    "\n",
    "p5<-data %>% \n",
    "    ggplot(aes(x=IP_Visits)) +\n",
    "    geom_histogram()\n",
    "\n",
    "p6<-data %>% \n",
    "    ggplot(aes(x=ER_Count)) +\n",
    "    geom_histogram()\n",
    "\n",
    "grid.arrange(p1,p2,p3,p4,p5,p6, ncol =3)"
   ]
  },
  {
   "cell_type": "code",
   "execution_count": 59,
   "metadata": {},
   "outputs": [
    {
     "data": {
      "image/png": "[encoded data removed]",
      "text/plain": [
       "plot without title"
      ]
     },
     "metadata": {},
     "output_type": "display_data"
    }
   ],
   "source": [
    "corDat <- data %>% select(Age, CC_Count, Risk_Count, HP_Paid, IP_Visits, ER_Count)\n",
    "chart.Correlation(corDat, histogram=FALSE, pch=12)"
   ]
  },
  {
   "cell_type": "markdown",
   "metadata": {},
   "source": [
    "## Chronic Conditions Prevalence"
   ]
  },
  {
   "cell_type": "code",
   "execution_count": 40,
   "metadata": {},
   "outputs": [
    {
     "data": {
      "text/html": [
       "0.530488474804312"
      ],
      "text/latex": [
       "0.530488474804312"
      ],
      "text/markdown": [
       "0.530488474804312"
      ],
      "text/plain": [
       "[1] 0.5304885"
      ]
     },
     "metadata": {},
     "output_type": "display_data"
    },
    {
     "data": {
      "text/html": [
       "0.466401566929387"
      ],
      "text/latex": [
       "0.466401566929387"
      ],
      "text/markdown": [
       "0.466401566929387"
      ],
      "text/plain": [
       "[1] 0.4664016"
      ]
     },
     "metadata": {},
     "output_type": "display_data"
    }
   ],
   "source": [
    "max(chisq.test(data$CC_Atrial_Fibrillation, data$CC_Austism)$statistic)\n",
    "chisq.test(data$CC_Atrial_Fibrillation, data$CC_Austism)$p.value"
   ]
  },
  {
   "cell_type": "code",
   "execution_count": 37,
   "metadata": {},
   "outputs": [
    {
     "data": {
      "text/html": [
       "<table>\n",
       "<thead><tr><th scope=col>CC_Arthritis</th><th scope=col>CC_Asthma</th><th scope=col>CC_Atrial_Fibrillation</th><th scope=col>CC_Austism</th><th scope=col>CC_Cancer</th><th scope=col>CC_COPD</th><th scope=col>CC_Dementia</th><th scope=col>CC_Depression</th><th scope=col>CC_Diabetes</th><th scope=col>CC_Heart_Failure</th><th scope=col>CC_Hepatitis</th><th scope=col>CC_HIV_AIDS</th><th scope=col>CC_Hyperlipidemia</th><th scope=col>CC_Hypertension</th><th scope=col>CC_Ischemic_Heart_Disease</th><th scope=col>CC_Kidney_Disease</th><th scope=col>CC_Osteoporosis</th><th scope=col>CC_Schizophrenia</th><th scope=col>CC_Stroke</th></tr></thead>\n",
       "<tbody>\n",
       "\t<tr><td>0</td><td>0</td><td>0</td><td>0</td><td>0</td><td>0</td><td>0</td><td>0</td><td>0</td><td>0</td><td>0</td><td>0</td><td>0</td><td>0</td><td>0</td><td>0</td><td>0</td><td>0</td><td>0</td></tr>\n",
       "\t<tr><td>0</td><td>0</td><td>0</td><td>0</td><td>1</td><td>0</td><td>0</td><td>1</td><td>0</td><td>0</td><td>0</td><td>0</td><td>0</td><td>0</td><td>0</td><td>0</td><td>0</td><td>0</td><td>0</td></tr>\n",
       "\t<tr><td>0</td><td>0</td><td>0</td><td>0</td><td>0</td><td>0</td><td>0</td><td>0</td><td>0</td><td>0</td><td>0</td><td>0</td><td>1</td><td>1</td><td>0</td><td>0</td><td>0</td><td>0</td><td>0</td></tr>\n",
       "\t<tr><td>0</td><td>0</td><td>0</td><td>0</td><td>0</td><td>0</td><td>0</td><td>0</td><td>0</td><td>0</td><td>0</td><td>0</td><td>0</td><td>0</td><td>1</td><td>0</td><td>0</td><td>0</td><td>1</td></tr>\n",
       "\t<tr><td>0</td><td>1</td><td>0</td><td>0</td><td>0</td><td>1</td><td>0</td><td>0</td><td>0</td><td>0</td><td>0</td><td>0</td><td>0</td><td>0</td><td>0</td><td>0</td><td>0</td><td>0</td><td>0</td></tr>\n",
       "\t<tr><td>0</td><td>0</td><td>0</td><td>0</td><td>0</td><td>0</td><td>0</td><td>0</td><td>0</td><td>0</td><td>0</td><td>0</td><td>0</td><td>1</td><td>0</td><td>0</td><td>0</td><td>0</td><td>0</td></tr>\n",
       "</tbody>\n",
       "</table>\n"
      ],
      "text/latex": [
       "\\begin{tabular}{r|lllllllllllllllllll}\n",
       " CC\\_Arthritis & CC\\_Asthma & CC\\_Atrial\\_Fibrillation & CC\\_Austism & CC\\_Cancer & CC\\_COPD & CC\\_Dementia & CC\\_Depression & CC\\_Diabetes & CC\\_Heart\\_Failure & CC\\_Hepatitis & CC\\_HIV\\_AIDS & CC\\_Hyperlipidemia & CC\\_Hypertension & CC\\_Ischemic\\_Heart\\_Disease & CC\\_Kidney\\_Disease & CC\\_Osteoporosis & CC\\_Schizophrenia & CC\\_Stroke\\\\\n",
       "\\hline\n",
       "\t 0 & 0 & 0 & 0 & 0 & 0 & 0 & 0 & 0 & 0 & 0 & 0 & 0 & 0 & 0 & 0 & 0 & 0 & 0\\\\\n",
       "\t 0 & 0 & 0 & 0 & 1 & 0 & 0 & 1 & 0 & 0 & 0 & 0 & 0 & 0 & 0 & 0 & 0 & 0 & 0\\\\\n",
       "\t 0 & 0 & 0 & 0 & 0 & 0 & 0 & 0 & 0 & 0 & 0 & 0 & 1 & 1 & 0 & 0 & 0 & 0 & 0\\\\\n",
       "\t 0 & 0 & 0 & 0 & 0 & 0 & 0 & 0 & 0 & 0 & 0 & 0 & 0 & 0 & 1 & 0 & 0 & 0 & 1\\\\\n",
       "\t 0 & 1 & 0 & 0 & 0 & 1 & 0 & 0 & 0 & 0 & 0 & 0 & 0 & 0 & 0 & 0 & 0 & 0 & 0\\\\\n",
       "\t 0 & 0 & 0 & 0 & 0 & 0 & 0 & 0 & 0 & 0 & 0 & 0 & 0 & 1 & 0 & 0 & 0 & 0 & 0\\\\\n",
       "\\end{tabular}\n"
      ],
      "text/markdown": [
       "\n",
       "CC_Arthritis | CC_Asthma | CC_Atrial_Fibrillation | CC_Austism | CC_Cancer | CC_COPD | CC_Dementia | CC_Depression | CC_Diabetes | CC_Heart_Failure | CC_Hepatitis | CC_HIV_AIDS | CC_Hyperlipidemia | CC_Hypertension | CC_Ischemic_Heart_Disease | CC_Kidney_Disease | CC_Osteoporosis | CC_Schizophrenia | CC_Stroke | \n",
       "|---|---|---|---|---|---|\n",
       "| 0 | 0 | 0 | 0 | 0 | 0 | 0 | 0 | 0 | 0 | 0 | 0 | 0 | 0 | 0 | 0 | 0 | 0 | 0 | \n",
       "| 0 | 0 | 0 | 0 | 1 | 0 | 0 | 1 | 0 | 0 | 0 | 0 | 0 | 0 | 0 | 0 | 0 | 0 | 0 | \n",
       "| 0 | 0 | 0 | 0 | 0 | 0 | 0 | 0 | 0 | 0 | 0 | 0 | 1 | 1 | 0 | 0 | 0 | 0 | 0 | \n",
       "| 0 | 0 | 0 | 0 | 0 | 0 | 0 | 0 | 0 | 0 | 0 | 0 | 0 | 0 | 1 | 0 | 0 | 0 | 1 | \n",
       "| 0 | 1 | 0 | 0 | 0 | 1 | 0 | 0 | 0 | 0 | 0 | 0 | 0 | 0 | 0 | 0 | 0 | 0 | 0 | \n",
       "| 0 | 0 | 0 | 0 | 0 | 0 | 0 | 0 | 0 | 0 | 0 | 0 | 0 | 1 | 0 | 0 | 0 | 0 | 0 | \n",
       "\n",
       "\n"
      ],
      "text/plain": [
       "  CC_Arthritis CC_Asthma CC_Atrial_Fibrillation CC_Austism CC_Cancer CC_COPD\n",
       "1 0            0         0                      0          0         0      \n",
       "2 0            0         0                      0          1         0      \n",
       "3 0            0         0                      0          0         0      \n",
       "4 0            0         0                      0          0         0      \n",
       "5 0            1         0                      0          0         1      \n",
       "6 0            0         0                      0          0         0      \n",
       "  CC_Dementia CC_Depression CC_Diabetes CC_Heart_Failure CC_Hepatitis\n",
       "1 0           0             0           0                0           \n",
       "2 0           1             0           0                0           \n",
       "3 0           0             0           0                0           \n",
       "4 0           0             0           0                0           \n",
       "5 0           0             0           0                0           \n",
       "6 0           0             0           0                0           \n",
       "  CC_HIV_AIDS CC_Hyperlipidemia CC_Hypertension CC_Ischemic_Heart_Disease\n",
       "1 0           0                 0               0                        \n",
       "2 0           0                 0               0                        \n",
       "3 0           1                 1               0                        \n",
       "4 0           0                 0               1                        \n",
       "5 0           0                 0               0                        \n",
       "6 0           0                 1               0                        \n",
       "  CC_Kidney_Disease CC_Osteoporosis CC_Schizophrenia CC_Stroke\n",
       "1 0                 0               0                0        \n",
       "2 0                 0               0                0        \n",
       "3 0                 0               0                0        \n",
       "4 0                 0               0                1        \n",
       "5 0                 0               0                0        \n",
       "6 0                 0               0                0        "
      ]
     },
     "metadata": {},
     "output_type": "display_data"
    }
   ],
   "source": [
    "conditions<-data[, grepl(\"CC_\",names(data))]\n",
    "conditions<-conditions[,-1]\n",
    "head(conditions)"
   ]
  },
  {
   "cell_type": "code",
   "execution_count": 45,
   "metadata": {},
   "outputs": [],
   "source": [
    "options(warn=-1) # Shutting off warnings for chisq.test()\n",
    "\n",
    "prevalence<-data.frame(ConditionOne = character(), \n",
    "                       ConditionTwo = character(), \n",
    "                       ChisqStat = numeric(), \n",
    "                       pValue = numeric())\n",
    "\n",
    "for(i in 1:ncol(conditions)){\n",
    "    for(j in 2:ncol(conditions)){\n",
    "        if(i!=j & i>j){\n",
    "            prevalence <- rbind(prevalence, data.frame(\n",
    "                ConditionOne = names(conditions)[i],\n",
    "                ConditionTwo = names(conditions)[j],\n",
    "                ChisqStat = max(chisq.test(conditions[,i], conditions[,j])$statistic),\n",
    "                ChisqStat = chisq.test(conditions[,i], conditions[,j])$p.value\n",
    "            ))\n",
    "        }\n",
    "    }\n",
    "}"
   ]
  },
  {
   "cell_type": "code",
   "execution_count": 47,
   "metadata": {},
   "outputs": [
    {
     "data": {
      "text/html": [
       "<table>\n",
       "<thead><tr><th scope=col>ConditionOne</th><th scope=col>ConditionTwo</th><th scope=col>ChisqStat</th><th scope=col>ChisqStat.1</th></tr></thead>\n",
       "<tbody>\n",
       "\t<tr><td>CC_COPD                  </td><td>CC_Asthma                </td><td>3254.7871                </td><td> 0.000000e+00            </td></tr>\n",
       "\t<tr><td>CC_Hypertension          </td><td>CC_Hyperlipidemia        </td><td>2039.5152                </td><td> 0.000000e+00            </td></tr>\n",
       "\t<tr><td>CC_Stroke                </td><td>CC_Heart_Failure         </td><td>1914.8526                </td><td> 0.000000e+00            </td></tr>\n",
       "\t<tr><td>CC_Ischemic_Heart_Disease</td><td>CC_Heart_Failure         </td><td> 749.5463                </td><td>5.035504e-165            </td></tr>\n",
       "\t<tr><td>CC_Heart_Failure         </td><td>CC_Atrial_Fibrillation   </td><td> 684.5267                </td><td>6.926902e-151            </td></tr>\n",
       "\t<tr><td>CC_Kidney_Disease        </td><td>CC_Diabetes              </td><td> 549.2420                </td><td>1.840271e-121            </td></tr>\n",
       "</tbody>\n",
       "</table>\n"
      ],
      "text/latex": [
       "\\begin{tabular}{r|llll}\n",
       " ConditionOne & ConditionTwo & ChisqStat & ChisqStat.1\\\\\n",
       "\\hline\n",
       "\t CC\\_COPD                   & CC\\_Asthma                 & 3254.7871                   &  0.000000e+00              \\\\\n",
       "\t CC\\_Hypertension           & CC\\_Hyperlipidemia         & 2039.5152                   &  0.000000e+00              \\\\\n",
       "\t CC\\_Stroke                 & CC\\_Heart\\_Failure        & 1914.8526                   &  0.000000e+00              \\\\\n",
       "\t CC\\_Ischemic\\_Heart\\_Disease & CC\\_Heart\\_Failure            &  749.5463                       & 5.035504e-165                  \\\\\n",
       "\t CC\\_Heart\\_Failure          & CC\\_Atrial\\_Fibrillation    &  684.5267                     & 6.926902e-151                \\\\\n",
       "\t CC\\_Kidney\\_Disease         & CC\\_Diabetes                 &  549.2420                     & 1.840271e-121                \\\\\n",
       "\\end{tabular}\n"
      ],
      "text/markdown": [
       "\n",
       "ConditionOne | ConditionTwo | ChisqStat | ChisqStat.1 | \n",
       "|---|---|---|---|---|---|\n",
       "| CC_COPD                   | CC_Asthma                 | 3254.7871                 |  0.000000e+00             | \n",
       "| CC_Hypertension           | CC_Hyperlipidemia         | 2039.5152                 |  0.000000e+00             | \n",
       "| CC_Stroke                 | CC_Heart_Failure          | 1914.8526                 |  0.000000e+00             | \n",
       "| CC_Ischemic_Heart_Disease | CC_Heart_Failure          |  749.5463                 | 5.035504e-165             | \n",
       "| CC_Heart_Failure          | CC_Atrial_Fibrillation    |  684.5267                 | 6.926902e-151             | \n",
       "| CC_Kidney_Disease         | CC_Diabetes               |  549.2420                 | 1.840271e-121             | \n",
       "\n",
       "\n"
      ],
      "text/plain": [
       "  ConditionOne              ConditionTwo           ChisqStat ChisqStat.1  \n",
       "1 CC_COPD                   CC_Asthma              3254.7871  0.000000e+00\n",
       "2 CC_Hypertension           CC_Hyperlipidemia      2039.5152  0.000000e+00\n",
       "3 CC_Stroke                 CC_Heart_Failure       1914.8526  0.000000e+00\n",
       "4 CC_Ischemic_Heart_Disease CC_Heart_Failure        749.5463 5.035504e-165\n",
       "5 CC_Heart_Failure          CC_Atrial_Fibrillation  684.5267 6.926902e-151\n",
       "6 CC_Kidney_Disease         CC_Diabetes             549.2420 1.840271e-121"
      ]
     },
     "metadata": {},
     "output_type": "display_data"
    }
   ],
   "source": [
    "# Top 5 most prevalent comorbidities\n",
    "prevalence %>% arrange(desc(ChisqStat)) %>% head"
   ]
  },
  {
   "cell_type": "code",
   "execution_count": 52,
   "metadata": {},
   "outputs": [
    {
     "data": {
      "text/plain": [
       "   \n",
       "        0     1\n",
       "  0 13801   520\n",
       "  1   291   388"
      ]
     },
     "metadata": {},
     "output_type": "display_data"
    }
   ],
   "source": [
    "table(conditions[,\"CC_COPD\"], conditions[,\"CC_Asthma\"])"
   ]
  },
  {
   "cell_type": "code",
   "execution_count": 53,
   "metadata": {},
   "outputs": [
    {
     "data": {
      "text/plain": [
       "   \n",
       "        0     1\n",
       "  0 13752   444\n",
       "  1   490   314"
      ]
     },
     "metadata": {},
     "output_type": "display_data"
    }
   ],
   "source": [
    "table(conditions[,\"CC_Hypertension\"], conditions[,\"CC_Hyperlipidemia\"])"
   ]
  },
  {
   "cell_type": "code",
   "execution_count": 54,
   "metadata": {
    "scrolled": false
   },
   "outputs": [
    {
     "data": {
      "text/plain": [
       "   \n",
       "        0     1\n",
       "  0 14077   407\n",
       "  1   299   217"
      ]
     },
     "metadata": {},
     "output_type": "display_data"
    }
   ],
   "source": [
    "table(conditions[,\"CC_Stroke\"], conditions[,\"CC_Heart_Failure\"])"
   ]
  },
  {
   "cell_type": "markdown",
   "metadata": {},
   "source": [
    "## Exploring ER Copay and PCP Copay"
   ]
  },
  {
   "cell_type": "code",
   "execution_count": 77,
   "metadata": {},
   "outputs": [],
   "source": [
    "data$ER_Copay <- factor(data$ER_Copay, levels = c(\"$25\",\"$75\",\"$100\",\"$150\"))\n",
    "data$PCP_Copay <- factor(data$PCP_Copay, levels = c(\"$20\",\"$25\",\"$35\",\"$50\"))"
   ]
  },
  {
   "cell_type": "code",
   "execution_count": 120,
   "metadata": {},
   "outputs": [],
   "source": [
    "# Plotting Function\n",
    "catVarSumm<-function(data, catVar){\n",
    "    data %>% \n",
    "    group_by_(catVar) %>%\n",
    "    summarise(Mean_Age = mean(Age),\n",
    "             Mean_ER_Count = mean(ER_Count),\n",
    "             Mean_CC_Count = mean(CC_Count),\n",
    "             Mean_Risk_Count = mean(Risk_Count),\n",
    "             Mean_HP_Paid = mean(HP_Paid),\n",
    "             Mean_IP_Visits = mean(IP_Visits)) %>% data.frame \n",
    "}"
   ]
  },
  {
   "cell_type": "code",
   "execution_count": 121,
   "metadata": {},
   "outputs": [
    {
     "data": {
      "image/png": "[encoded data removed]",
      "text/plain": [
       "plot without title"
      ]
     },
     "metadata": {},
     "output_type": "display_data"
    }
   ],
   "source": [
    "p1<-catVarSumm(data=data, catVar=\"ER_Copay\") %>%\n",
    "    ggplot(aes(x = ER_Copay, y = Mean_Age)) +\n",
    "    geom_bar(stat=\"identity\") + coord_flip()\n",
    "\n",
    "p2<-catVarSumm(data=data, catVar=\"ER_Copay\") %>%\n",
    "    ggplot(aes(x = ER_Copay, y = Mean_ER_Count)) +\n",
    "    geom_bar(stat=\"identity\") + coord_flip()\n",
    "\n",
    "p3<-catVarSumm(data=data, catVar=\"ER_Copay\") %>%\n",
    "    ggplot(aes(x = ER_Copay, y = Mean_CC_Count)) +\n",
    "    geom_bar(stat=\"identity\") + coord_flip()\n",
    "\n",
    "p4<-catVarSumm(data=data, catVar=\"ER_Copay\") %>%\n",
    "    ggplot(aes(x = ER_Copay, y = Mean_Risk_Count)) +\n",
    "    geom_bar(stat=\"identity\") + coord_flip()\n",
    "\n",
    "p5<-catVarSumm(data=data, catVar=\"ER_Copay\") %>%\n",
    "    ggplot(aes(x = ER_Copay, y = Mean_HP_Paid)) +\n",
    "    geom_bar(stat=\"identity\") + coord_flip()\n",
    "\n",
    "p6<-catVarSumm(data=data, catVar=\"ER_Copay\") %>%\n",
    "    ggplot(aes(x = ER_Copay, y = Mean_IP_Visits)) +\n",
    "    geom_bar(stat=\"identity\") + coord_flip()\n",
    "\n",
    "\n",
    "grid.arrange(p1,p2,p3,p4,p5,p6,ncol=3)"
   ]
  },
  {
   "cell_type": "code",
   "execution_count": 122,
   "metadata": {},
   "outputs": [
    {
     "data": {
      "image/png": "[encoded data removed]",
      "text/plain": [
       "plot without title"
      ]
     },
     "metadata": {},
     "output_type": "display_data"
    }
   ],
   "source": [
    "p1<-catVarSumm(data=data, catVar=\"PCP_Copay\") %>%\n",
    "    ggplot(aes(x = PCP_Copay, y = Mean_Age)) +\n",
    "    geom_bar(stat=\"identity\") + coord_flip()\n",
    "\n",
    "p2<-catVarSumm(data=data, catVar=\"PCP_Copay\") %>%\n",
    "    ggplot(aes(x = PCP_Copay, y = Mean_ER_Count)) +\n",
    "    geom_bar(stat=\"identity\") + coord_flip()\n",
    "\n",
    "p3<-catVarSumm(data=data, catVar=\"PCP_Copay\") %>%\n",
    "    ggplot(aes(x = PCP_Copay, y = Mean_CC_Count)) +\n",
    "    geom_bar(stat=\"identity\") + coord_flip()\n",
    "\n",
    "p4<-catVarSumm(data=data, catVar=\"PCP_Copay\") %>%\n",
    "    ggplot(aes(x = PCP_Copay, y = Mean_Risk_Count)) +\n",
    "    geom_bar(stat=\"identity\") + coord_flip()\n",
    "\n",
    "p5<-catVarSumm(data=data, catVar=\"PCP_Copay\") %>%\n",
    "    ggplot(aes(x = PCP_Copay, y = Mean_HP_Paid)) +\n",
    "    geom_bar(stat=\"identity\") + coord_flip()\n",
    "\n",
    "p6<-catVarSumm(data=data, catVar=\"PCP_Copay\") %>%\n",
    "    ggplot(aes(x = PCP_Copay, y = Mean_IP_Visits)) +\n",
    "    geom_bar(stat=\"identity\") + coord_flip()\n",
    "\n",
    "\n",
    "grid.arrange(p1,p2,p3,p4,p5,p6,ncol=3)"
   ]
  },
  {
   "cell_type": "code",
   "execution_count": null,
   "metadata": {},
   "outputs": [],
   "source": []
  },
  {
   "cell_type": "code",
   "execution_count": null,
   "metadata": {},
   "outputs": [],
   "source": []
  },
  {
   "cell_type": "code",
   "execution_count": null,
   "metadata": {},
   "outputs": [],
   "source": []
  },
  {
   "cell_type": "code",
   "execution_count": null,
   "metadata": {},
   "outputs": [],
   "source": []
  }
 ],
 "metadata": {
  "kernelspec": {
   "display_name": "R",
   "language": "R",
   "name": "ir"
  },
  "language_info": {
   "codemirror_mode": "r",
   "file_extension": ".r",
   "mimetype": "text/x-r-source",
   "name": "R",
   "pygments_lexer": "r",
   "version": "3.4.3"
  }
 },
 "nbformat": 4,
 "nbformat_minor": 2
}
